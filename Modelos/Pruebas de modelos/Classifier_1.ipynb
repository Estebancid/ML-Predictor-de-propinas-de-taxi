{
 "cells": [
  {
   "cell_type": "markdown",
   "metadata": {},
   "source": [
    "# Modelos"
   ]
  },
  {
   "cell_type": "markdown",
   "metadata": {},
   "source": [
    "En este notebook se probarán distintos modelos para predecir las propinas. El enfoque que se le va a dar al proyecto va a ser el siguiente:\n",
    "- Modelo de clasificación. En primer lugar, se diseñará un modelo para clasificar los viajes en viajes de propinas bajas y viajes de propinas altas.\n",
    "- Modelos de regresión. Tras la clasificación inicial, se diseñarán dos modelos de regresión, uno para cada clase.  \n",
    "\n",
    "Dado que el objetivo principal es identificar el máximo posible de propinas altas ( >10$, clase 1) la métrica que se va a utilizar para evaluar los modelos es el f2-score, que aplica un coeficiente beta al f-score para asignar mas peso al recall en comparación con la precisión\n",
    "\n"
   ]
  },
  {
   "cell_type": "code",
   "execution_count": 1,
   "metadata": {},
   "outputs": [],
   "source": [
    "# Tratamiento de datos\n",
    "# ==============================================================================\n",
    "import numpy as np\n",
    "import pandas as pd\n",
    "import statsmodels.api as sm\n",
    "\n",
    "# Gráficos\n",
    "# ==============================================================================\n",
    "import matplotlib.pyplot as plt\n",
    "import seaborn as sns\n",
    "\n",
    "# Configuración warnings\n",
    "# ==============================================================================\n",
    "import warnings\n",
    "warnings.filterwarnings('ignore')\n",
    "\n",
    "# Machine learning supervisado\n",
    "# ==============================================================================\n",
    "from sklearn.linear_model import LogisticRegression\n",
    "from sklearn.ensemble import RandomForestClassifier\n",
    "from sklearn.model_selection import GridSearchCV, RandomizedSearchCV\n",
    "from sklearn.pipeline import Pipeline\n",
    "from sklearn.preprocessing import StandardScaler, MinMaxScaler\n",
    "from sklearn.model_selection import train_test_split \n",
    "from sklearn import svm\n",
    "from sklearn import metrics\n",
    "from sklearn.neighbors import KNeighborsClassifier\n",
    "from sklearn.metrics import fbeta_score, make_scorer, recall_score, precision_score\n",
    "import xgboost\n",
    "\n",
    "# Guardar modelos\n",
    "# ==============================================================================\n",
    "import pickle\n"
   ]
  },
  {
   "cell_type": "markdown",
   "metadata": {},
   "source": [
    "### Carga de datos"
   ]
  },
  {
   "cell_type": "code",
   "execution_count": 17,
   "metadata": {},
   "outputs": [],
   "source": [
    "df = pd.read_csv('../data/df_yellowtaxi_cleaned.csv', index_col='Unnamed: 0')\n",
    "df_zones = pd.read_csv('../data/taxi_zone_geo.csv')"
   ]
  },
  {
   "cell_type": "code",
   "execution_count": 18,
   "metadata": {},
   "outputs": [
    {
     "data": {
      "text/html": [
       "<div>\n",
       "<style scoped>\n",
       "    .dataframe tbody tr th:only-of-type {\n",
       "        vertical-align: middle;\n",
       "    }\n",
       "\n",
       "    .dataframe tbody tr th {\n",
       "        vertical-align: top;\n",
       "    }\n",
       "\n",
       "    .dataframe thead th {\n",
       "        text-align: right;\n",
       "    }\n",
       "</style>\n",
       "<table border=\"1\" class=\"dataframe\">\n",
       "  <thead>\n",
       "    <tr style=\"text-align: right;\">\n",
       "      <th></th>\n",
       "      <th>passenger_count</th>\n",
       "      <th>trip_distance</th>\n",
       "      <th>RatecodeID</th>\n",
       "      <th>PULocationID</th>\n",
       "      <th>DOLocationID</th>\n",
       "      <th>payment_type</th>\n",
       "      <th>fare_amount</th>\n",
       "      <th>mta_tax</th>\n",
       "      <th>congestion_surcharge</th>\n",
       "      <th>Airport_fee</th>\n",
       "      <th>pickup_DoW</th>\n",
       "      <th>pickup_DoW_name</th>\n",
       "      <th>pickup_Timestamp</th>\n",
       "      <th>pickup_Time</th>\n",
       "      <th>trip_duration</th>\n",
       "      <th>avg_speed(km/h)</th>\n",
       "      <th>tolls_percentage</th>\n",
       "      <th>tip_amount</th>\n",
       "    </tr>\n",
       "  </thead>\n",
       "  <tbody>\n",
       "    <tr>\n",
       "      <th>1</th>\n",
       "      <td>2.0</td>\n",
       "      <td>3.76506</td>\n",
       "      <td>1.0</td>\n",
       "      <td>236</td>\n",
       "      <td>233</td>\n",
       "      <td>1</td>\n",
       "      <td>14.2</td>\n",
       "      <td>True</td>\n",
       "      <td>2.5</td>\n",
       "      <td>0.00</td>\n",
       "      <td>4</td>\n",
       "      <td>Friday</td>\n",
       "      <td>00:18:40</td>\n",
       "      <td>0</td>\n",
       "      <td>708.0</td>\n",
       "      <td>11.898305</td>\n",
       "      <td>0.0</td>\n",
       "      <td>2.00</td>\n",
       "    </tr>\n",
       "    <tr>\n",
       "      <th>2</th>\n",
       "      <td>1.0</td>\n",
       "      <td>2.60658</td>\n",
       "      <td>1.0</td>\n",
       "      <td>162</td>\n",
       "      <td>236</td>\n",
       "      <td>1</td>\n",
       "      <td>8.6</td>\n",
       "      <td>True</td>\n",
       "      <td>2.5</td>\n",
       "      <td>0.00</td>\n",
       "      <td>4</td>\n",
       "      <td>Friday</td>\n",
       "      <td>00:35:01</td>\n",
       "      <td>0</td>\n",
       "      <td>243.0</td>\n",
       "      <td>24.000000</td>\n",
       "      <td>0.0</td>\n",
       "      <td>2.00</td>\n",
       "    </tr>\n",
       "    <tr>\n",
       "      <th>4</th>\n",
       "      <td>1.0</td>\n",
       "      <td>15.84865</td>\n",
       "      <td>1.0</td>\n",
       "      <td>138</td>\n",
       "      <td>230</td>\n",
       "      <td>1</td>\n",
       "      <td>45.0</td>\n",
       "      <td>True</td>\n",
       "      <td>2.5</td>\n",
       "      <td>1.75</td>\n",
       "      <td>4</td>\n",
       "      <td>Friday</td>\n",
       "      <td>00:01:23</td>\n",
       "      <td>0</td>\n",
       "      <td>2202.0</td>\n",
       "      <td>16.103542</td>\n",
       "      <td>0.0</td>\n",
       "      <td>17.02</td>\n",
       "    </tr>\n",
       "    <tr>\n",
       "      <th>7</th>\n",
       "      <td>1.0</td>\n",
       "      <td>6.27510</td>\n",
       "      <td>1.0</td>\n",
       "      <td>140</td>\n",
       "      <td>7</td>\n",
       "      <td>1</td>\n",
       "      <td>20.5</td>\n",
       "      <td>True</td>\n",
       "      <td>2.5</td>\n",
       "      <td>0.00</td>\n",
       "      <td>4</td>\n",
       "      <td>Friday</td>\n",
       "      <td>00:01:04</td>\n",
       "      <td>0</td>\n",
       "      <td>1052.0</td>\n",
       "      <td>13.346008</td>\n",
       "      <td>0.0</td>\n",
       "      <td>6.35</td>\n",
       "    </tr>\n",
       "    <tr>\n",
       "      <th>8</th>\n",
       "      <td>2.0</td>\n",
       "      <td>4.34430</td>\n",
       "      <td>1.0</td>\n",
       "      <td>45</td>\n",
       "      <td>164</td>\n",
       "      <td>1</td>\n",
       "      <td>16.3</td>\n",
       "      <td>True</td>\n",
       "      <td>2.5</td>\n",
       "      <td>0.00</td>\n",
       "      <td>4</td>\n",
       "      <td>Friday</td>\n",
       "      <td>00:37:44</td>\n",
       "      <td>0</td>\n",
       "      <td>880.0</td>\n",
       "      <td>11.045455</td>\n",
       "      <td>0.0</td>\n",
       "      <td>4.26</td>\n",
       "    </tr>\n",
       "  </tbody>\n",
       "</table>\n",
       "</div>"
      ],
      "text/plain": [
       "   passenger_count  trip_distance  RatecodeID  PULocationID  DOLocationID  \\\n",
       "1              2.0        3.76506         1.0           236           233   \n",
       "2              1.0        2.60658         1.0           162           236   \n",
       "4              1.0       15.84865         1.0           138           230   \n",
       "7              1.0        6.27510         1.0           140             7   \n",
       "8              2.0        4.34430         1.0            45           164   \n",
       "\n",
       "   payment_type  fare_amount  mta_tax  congestion_surcharge  Airport_fee  \\\n",
       "1             1         14.2     True                   2.5         0.00   \n",
       "2             1          8.6     True                   2.5         0.00   \n",
       "4             1         45.0     True                   2.5         1.75   \n",
       "7             1         20.5     True                   2.5         0.00   \n",
       "8             1         16.3     True                   2.5         0.00   \n",
       "\n",
       "   pickup_DoW pickup_DoW_name pickup_Timestamp  pickup_Time  trip_duration  \\\n",
       "1           4          Friday         00:18:40            0          708.0   \n",
       "2           4          Friday         00:35:01            0          243.0   \n",
       "4           4          Friday         00:01:23            0         2202.0   \n",
       "7           4          Friday         00:01:04            0         1052.0   \n",
       "8           4          Friday         00:37:44            0          880.0   \n",
       "\n",
       "   avg_speed(km/h)  tolls_percentage  tip_amount  \n",
       "1        11.898305               0.0        2.00  \n",
       "2        24.000000               0.0        2.00  \n",
       "4        16.103542               0.0       17.02  \n",
       "7        13.346008               0.0        6.35  \n",
       "8        11.045455               0.0        4.26  "
      ]
     },
     "execution_count": 18,
     "metadata": {},
     "output_type": "execute_result"
    }
   ],
   "source": [
    "df.head()"
   ]
  },
  {
   "cell_type": "markdown",
   "metadata": {},
   "source": [
    "Se crea la variable target para el clasificador, que se va a llamar tip_category. Valdrá 0 para propinas menores a 10$, y 1 para propinas superiores a 10$"
   ]
  },
  {
   "cell_type": "code",
   "execution_count": 19,
   "metadata": {},
   "outputs": [],
   "source": [
    "df['tip_category'] = [0 if x<10 else 1 for x in df['tip_amount']]"
   ]
  },
  {
   "cell_type": "code",
   "execution_count": 20,
   "metadata": {},
   "outputs": [
    {
     "data": {
      "text/plain": [
       "tip_category\n",
       "0    1760107\n",
       "1     199172\n",
       "Name: count, dtype: int64"
      ]
     },
     "execution_count": 20,
     "metadata": {},
     "output_type": "execute_result"
    }
   ],
   "source": [
    "df['tip_category'].value_counts()"
   ]
  },
  {
   "cell_type": "markdown",
   "metadata": {},
   "source": [
    "Para tener como base, se va a probar un primer modelo sencillo, sin realizar transformaciones logarítmicas ni de ningun tipo a ninguna variable.  \n",
    "Como el dataset tiene una gran cantidad de datos, se va a realizar un muestreo para reducir el tiempo de entrenamiento de los modelos y agilizar el trabajo. El target está muy desbalanceado (aprox 90% clase 0 vs 10% clase 1), por lo tanto se va a realizar un submuestreo únicamente a la clase 0, para tener una representación más parecida de las dos clases"
   ]
  },
  {
   "cell_type": "code",
   "execution_count": 21,
   "metadata": {},
   "outputs": [],
   "source": [
    "# Separar las clases\n",
    "class_0 = df[df['tip_category'] == 0]\n",
    "class_1 = df[df['tip_category'] == 1]\n",
    "\n",
    "# Submuestreo de la clase mayoritaria\n",
    "class_0_sampled = class_0.sample(n=int(0.2*len(class_0)), random_state=42)\n",
    "\n",
    "# Combinar las clases y mezclar\n",
    "balanced_df = pd.concat([class_0_sampled, class_1]).sample(frac=1, random_state=42)     # con el .sample se mezclan las filas para que no queden ordenadas, ya que al hacer merge quedaron primero todas las de una categoría y luego las de la otra\n",
    "\n",
    "# Redefinir X e y\n",
    "X = balanced_df.drop(columns=['tip_amount', 'tip_category', 'RatecodeID', 'payment_type', 'mta_tax', 'pickup_Timestamp', 'pickup_DoW_name'])\n",
    "y = balanced_df['tip_category']\n",
    "\n",
    "# Dividir los datos\n",
    "X_train, X_test, y_train, y_test = train_test_split(X, y, test_size=0.25, random_state=42)"
   ]
  },
  {
   "cell_type": "code",
   "execution_count": 22,
   "metadata": {},
   "outputs": [
    {
     "name": "stdout",
     "output_type": "stream",
     "text": [
      "Best Parameters: {'classifier__n_estimators': 50, 'classifier__max_depth': 3, 'classifier': RandomForestClassifier()}\n",
      "Best Model: Pipeline(steps=[('scaler', StandardScaler()),\n",
      "                ('classifier',\n",
      "                 RandomForestClassifier(max_depth=3, n_estimators=50))])\n",
      "F2 Score (Train): 0.938\n",
      "F2 Score (Test): 0.937\n"
     ]
    }
   ],
   "source": [
    "pipe = Pipeline(steps=[(\"scaler\", StandardScaler()),\n",
    "    ('classifier', RandomForestClassifier())\n",
    "])\n",
    "\n",
    "random_forest_params = {\n",
    "    'classifier': [RandomForestClassifier()],\n",
    "    \"classifier__n_estimators\": [50, 100],  # Número de árboles\n",
    "    'classifier__max_depth': [3,4]\n",
    "}\n",
    "\n",
    "xgboost_param = {\n",
    "    'classifier': [xgboost.XGBClassifier()], \n",
    "    \"classifier__n_estimators\": [100, 200],\n",
    "    \"classifier__learning_rate\": [0.01, 0.1],\n",
    "    \"classifier__max_depth\": [3,4]\n",
    "    \n",
    "}\n",
    "\n",
    "search_space = [\n",
    "    random_forest_params,\n",
    "    xgboost_param,\n",
    "]\n",
    "\n",
    "clf = RandomizedSearchCV(estimator=pipe,                                        # Utilizo RandomizedSearch en lugar de GridSearch porque es más eficiente computacionalmente, aunque no garantice encontrar la solución óptima\n",
    "                         param_distributions=search_space,\n",
    "                         n_iter=10,  # Número de combinaciones a probar\n",
    "                         #cv=5,\n",
    "                         scoring=make_scorer(fbeta_score, beta=2),  # Evaluar Recall\n",
    "                         n_jobs=-1)\n",
    "\n",
    "clf.fit(X_train, y_train)\n",
    "\n",
    "# Mostrar los resultados\n",
    "print(\"Best Parameters:\", clf.best_params_)  # Mejores parámetros\n",
    "print(\"Best Model:\", clf.best_estimator_)   # Mejor modelo\n",
    "\n",
    "# Evaluar el mejor modelo en el conjunto de prueba\n",
    "y_pred_train = clf.best_estimator_.predict(X_train)\n",
    "f2_train = round(fbeta_score(y_train, y_pred_train, beta=2), 3)\n",
    "print(\"F2 Score (Train):\", f2_train)\n",
    "\n",
    "# Evaluar el mejor modelo en el conjunto de prueba\n",
    "y_pred = clf.best_estimator_.predict(X_test)\n",
    "f2_test = round(fbeta_score(y_test, y_pred, beta=2), 3)\n",
    "print(\"F2 Score (Test):\", f2_test)"
   ]
  },
  {
   "cell_type": "code",
   "execution_count": 23,
   "metadata": {},
   "outputs": [
    {
     "name": "stdout",
     "output_type": "stream",
     "text": [
      "              precision    recall  f1-score   support\n",
      "\n",
      "           0       0.97      0.95      0.96     87829\n",
      "           1       0.92      0.94      0.93     49970\n",
      "\n",
      "    accuracy                           0.95    137799\n",
      "   macro avg       0.94      0.95      0.94    137799\n",
      "weighted avg       0.95      0.95      0.95    137799\n",
      "\n"
     ]
    }
   ],
   "source": [
    "print(metrics.classification_report(y_test, y_pred))"
   ]
  },
  {
   "cell_type": "code",
   "execution_count": 24,
   "metadata": {},
   "outputs": [
    {
     "data": {
      "image/png": "[encoded data removed]",
      "text/plain": [
       "<Figure size 800x600 with 2 Axes>"
      ]
     },
     "metadata": {},
     "output_type": "display_data"
    }
   ],
   "source": [
    "# Generar la matriz de confusión\n",
    "conf_matrix = metrics.confusion_matrix(y_test, y_pred)\n",
    "\n",
    "# Convertir la matriz de confusión a porcentaje\n",
    "conf_matrix_percent = conf_matrix / conf_matrix.sum(axis=1, keepdims=True)\n",
    "\n",
    "# Crear el heatmap con porcentajes\n",
    "plt.figure(figsize=(8, 6))\n",
    "sns.heatmap(conf_matrix_percent, annot=True, fmt=\".3f\", cmap=\"Blues\", cbar=True)\n",
    "\n",
    "# Cambiar las etiquetas\n",
    "plt.xlabel('Predicted class', fontsize=12)\n",
    "plt.ylabel('Actual class', fontsize=12)\n",
    "plt.xticks([0.5, 1.5], ['Standard tips (<10$)', 'Big tips (>10$)'], fontsize=10)\n",
    "plt.yticks([0.5, 1.5], ['Standard tips (<10$)', 'Big tips (>10$)'], fontsize=10, rotation=0)\n",
    "\n",
    "# Título opcional\n",
    "plt.title('Confusion Matrix (Percentages)', fontsize=14)\n",
    "plt.show()"
   ]
  },
  {
   "cell_type": "code",
   "execution_count": 27,
   "metadata": {},
   "outputs": [
    {
     "name": "stdout",
     "output_type": "stream",
     "text": [
      "                 Feature  Importance\n",
      "4            fare_amount    0.323177\n",
      "1          trip_distance    0.282229\n",
      "11      tolls_percentage    0.170288\n",
      "6            Airport_fee    0.077369\n",
      "9          trip_duration    0.076221\n",
      "10       avg_speed(km/h)    0.043099\n",
      "2           PULocationID    0.018249\n",
      "5   congestion_surcharge    0.005962\n",
      "3           DOLocationID    0.003379\n",
      "8            pickup_Time    0.000023\n",
      "7             pickup_DoW    0.000002\n",
      "0        passenger_count    0.000002\n"
     ]
    },
    {
     "data": {
      "image/png": "[encoded data removed]",
      "text/plain": [
       "<Figure size 1000x600 with 1 Axes>"
      ]
     },
     "metadata": {},
     "output_type": "display_data"
    }
   ],
   "source": [
    "# Vamos a sacar las feature importances de este modelo\n",
    "# Extraer el modelo del pipeline\n",
    "final_model = clf.best_estimator_.named_steps['classifier']  \n",
    "\n",
    "# Obtener las importancias (ejemplo para Random Forest o XGBoost)\n",
    "if hasattr(final_model, 'feature_importances_'):\n",
    "    importances = final_model.feature_importances_\n",
    "    importance_df = pd.DataFrame({'Feature': X_train.columns, 'Importance': importances})\n",
    "    importance_df = importance_df.sort_values(by='Importance', ascending=False)\n",
    "\n",
    "    print(importance_df)\n",
    "\n",
    "    # Visualizar\n",
    "    plt.figure(figsize=(10, 6))\n",
    "    plt.barh(importance_df['Feature'], importance_df['Importance'], color='lightcoral')\n",
    "    plt.xlabel('Importance')\n",
    "    plt.ylabel('Feature')\n",
    "    plt.title('Feature Importance')\n",
    "    plt.gca().invert_yaxis()\n",
    "    plt.show()"
   ]
  },
  {
   "cell_type": "markdown",
   "metadata": {},
   "source": [
    "Este primer modelo a pesar de su sencillez obtiene un resultado bastante bueno, un 94% de recall."
   ]
  },
  {
   "cell_type": "code",
   "execution_count": 26,
   "metadata": {},
   "outputs": [
    {
     "name": "stdout",
     "output_type": "stream",
     "text": [
      "Modelo guardado como 'classifier_1.pkl'\n"
     ]
    }
   ],
   "source": [
    "# Guardamos el modelo en un archivo con pickle\n",
    "with open('classifier_1.pkl', 'wb') as file:\n",
    "    pickle.dump(clf.best_estimator_, file)\n",
    "\n",
    "print(\"Modelo guardado como 'classifier_1.pkl'\")"
   ]
  }
 ],
 "metadata": {
  "kernelspec": {
   "display_name": "Python 3",
   "language": "python",
   "name": "python3"
  },
  "language_info": {
   "codemirror_mode": {
    "name": "ipython",
    "version": 3
   },
   "file_extension": ".py",
   "mimetype": "text/x-python",
   "name": "python",
   "nbconvert_exporter": "python",
   "pygments_lexer": "ipython3",
   "version": "3.9.6"
  }
 },
 "nbformat": 4,
 "nbformat_minor": 2
}
